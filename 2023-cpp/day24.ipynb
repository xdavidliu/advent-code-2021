{
 "cells": [
  {
   "cell_type": "markdown",
   "id": "f2976cd9-4472-4896-a03c-1e55314508e7",
   "metadata": {},
   "source": [
    "Let the particles have $i = 0, 1, 2 \\ldots N-1$.\n",
    "Initial position and velocity $\\mu$ of particle $i$ is $q^i_\\mu$ and $v^i_\\mu$ where $\\mu = 0, 1, 2$.\n",
    "Initial position and velocity $\\mu$ of self is $a_\\mu$ and $d_\\mu$.\n",
    "Self collision with particle $i$ at $t^i$. Hence, we have\n",
    "$a_\\mu + d_\\mu t^i = q^i_\\mu + v^i_\\mu t^i$. Hence, we have for each $i$, the following is equal for all $\\mu$: $$\\frac{a_\\mu - q^i_\\mu}{v^i_\\mu - d_\\mu} = t^i$$"
   ]
  },
  {
   "cell_type": "markdown",
   "id": "aa6cbee2-dd60-4a0a-9f98-a9197e8ae0ac",
   "metadata": {},
   "source": [
    "Choosing $\\mu = 0, 1$, we have\n",
    "\n",
    "$$\\begin{aligned} (a_0 - q^i_0)(v^i_1 - d_1) &= (a_1 - q^i_1)(v^i_0 - d_0) \\\\ a_0 v^i_1 - a_0 d_1 - q^i_0 v^i_1 + q^i_0 d_1 &= a_1 v^i_0 - a_1 d_0 - q^i_1 v^i_0 + q^i_1 d_0 \\end{aligned}$$"
   ]
  },
  {
   "cell_type": "markdown",
   "id": "ed44241d-dd73-469d-87c0-d170c3800dad",
   "metadata": {},
   "source": [
    "Replace $i$ with $k$ and subtract, and we have\n",
    "\n",
    "$$a_0 (v^i_1 - v^k_1) - q^i_0 v^i_1 + q^k_0 v^k_1 + (q^i_0 - q^k_0) d_1 = a_1 (v^i_0 - v^k_0) - q^i_1 v^i_0 + q^k_1 v^k_0 + (q^i_1 - q^k_1) d_0$$\n",
    "\n",
    "Rearrange into matrix-vector form $M x = b$:\n",
    "\n",
    "$$ (v^i_1 - v^k_1) a_0 + (v^k_0 - v^i_0) a_1 + (q^k_1 - q^i_1) d_0 + (q^i_0 - q^k_0) d_1 = q^i_0 v^i_1 - q^k_0 v^k_1 - q^i_1 v^i_0 + q^k_1 v^k_0$$"
   ]
  },
  {
   "cell_type": "markdown",
   "id": "ca91ac04-ec4c-42de-a0bc-8274539f814b",
   "metadata": {},
   "source": [
    "Try $(i, k) = (0, 1), (1, 2), (2, 3), (3, 0)$.\n",
    "\n",
    "Data is\n",
    "```\n",
    "257520024329236, 69140711609471, 263886787577054 @ 21, 351, 72\n",
    "227164924449606, 333280170830371, 330954002548352 @ 70, -28, -35\n",
    "269125649340143, 131766988959682, 261281801543906 @ 35, -337, -281\n",
    "220308068691946, 434660701646971, 160719186877066 @ 76, -149, 208\n",
    "```"
   ]
  },
  {
   "cell_type": "code",
   "execution_count": 19,
   "id": "4f035afb-3f42-43fa-9c83-1c7ca11bc1b7",
   "metadata": {},
   "outputs": [],
   "source": [
    "from fractions import Fraction\n",
    "from typing import List\n",
    "\n",
    "v = [[21, 351, 72], [70, -28, -35], [35, -337, -281], [76, -149, 208]]\n",
    "q = [[257520024329236, 69140711609471, 263886787577054],\n",
    "     [227164924449606, 333280170830371, 330954002548352],\n",
    "     [269125649340143, 131766988959682, 261281801543906],\n",
    "     [220308068691946, 434660701646971, 160719186877066]]\n",
    "m = [[0,0,0,0],[0,0,0,0],[0,0,0,0],[0,0,0,0]]\n",
    "b = [0,0,0,0]\n",
    "\n",
    "for (ind, (i, k)) in enumerate([(0,1),(1,2),(2,3),(3,0)]):\n",
    "    m[ind][0] = Fraction(v[i][1] - v[k][1])\n",
    "    m[ind][1] = Fraction(v[k][0] - v[i][0])\n",
    "    m[ind][2] = Fraction(q[k][1] - q[i][1])\n",
    "    m[ind][3] = Fraction(q[i][0] - q[k][0])\n",
    "    b[ind] = Fraction(q[i][0] * v[i][1] - q[k][0] * v[k][1] - q[i][1] * v[i][0] + q[k][1] * v[k][0])"
   ]
  },
  {
   "cell_type": "code",
   "execution_count": 21,
   "id": "5da25c5f-b4e7-40c2-8ebb-4afdfd432c18",
   "metadata": {},
   "outputs": [
    {
     "data": {
      "text/plain": [
       "[[Fraction(379, 1),\n",
       "  Fraction(49, 1),\n",
       "  Fraction(264139459220900, 1),\n",
       "  Fraction(30355099879630, 1)],\n",
       " [Fraction(0, 1),\n",
       "  Fraction(-28406, 379),\n",
       "  Fraction(-157992588828249231, 379),\n",
       "  Fraction(-25282840596319193, 379)],\n",
       " [Fraction(0, 1),\n",
       "  Fraction(0, 1),\n",
       "  Fraction(286857267273949685, 4058),\n",
       "  Fraction(163310090959935625, 28406)],\n",
       " [Fraction(0, 1), Fraction(0, 1), Fraction(0, 1), Fraction(0, 1)]]"
      ]
     },
     "execution_count": 21,
     "metadata": {},
     "output_type": "execute_result"
    }
   ],
   "source": [
    "def triangle(m: List[List[int]], b: List[int]) -> None:\n",
    "    for w in range(1, len(m)):\n",
    "        for r in range(w, len(m)):\n",
    "            p = m[r][w-1] / m[w-1][w-1]\n",
    "            for c in range(w-1, len(m[r])):\n",
    "                m[r][c] -= p * m[w-1][c]\n",
    "                b[r] -= p * b[w-1]\n",
    "\n",
    "triangle(m, b)\n",
    "m"
   ]
  },
  {
   "cell_type": "markdown",
   "id": "9e5df100-f629-4915-a8b3-85174d7a779e",
   "metadata": {},
   "source": [
    "Wow! I just found the bug: it's not about roundoff error, but rather the fact that I picked $i = (0, 1, 2, 3)$ and $k = (1, 2, 3, 0)$. That makes rank $3$ so not high enough to solve! Just change to $k = (1, 2, 3, 4)$ and it will be linearly independent!"
   ]
  }
 ],
 "metadata": {
  "kernelspec": {
   "display_name": "Python 3 (ipykernel)",
   "language": "python",
   "name": "python3"
  },
  "language_info": {
   "codemirror_mode": {
    "name": "ipython",
    "version": 3
   },
   "file_extension": ".py",
   "mimetype": "text/x-python",
   "name": "python",
   "nbconvert_exporter": "python",
   "pygments_lexer": "ipython3",
   "version": "3.12.1"
  }
 },
 "nbformat": 4,
 "nbformat_minor": 5
}
